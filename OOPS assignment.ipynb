{
 "cells": [
  {
   "cell_type": "code",
   "execution_count": 1,
   "id": "10e824b2-7e31-4231-a100-60d38f90582e",
   "metadata": {},
   "outputs": [],
   "source": [
    "#1) 5 key concepts oof OOPS"
   ]
  },
  {
   "cell_type": "code",
   "execution_count": 2,
   "id": "dd3f1042-f685-4429-8b22-a17cdebacf38",
   "metadata": {},
   "outputs": [],
   "source": [
    "#a) classes and objects - class is blueprint or orginal forms and objects are the dublicates of the blueprints\n",
    "#example\n",
    "class human:\n",
    "    def skin(self,colour):\n",
    "        print(\"skin colour is\",colour)"
   ]
  },
  {
   "cell_type": "code",
   "execution_count": 3,
   "id": "2c82ab98-3aa3-4b9d-a035-8e51163ea5cd",
   "metadata": {},
   "outputs": [],
   "source": [
    "devika = human()"
   ]
  },
  {
   "cell_type": "code",
   "execution_count": 5,
   "id": "2059a61e-1ac4-4809-85be-0492ab8089ab",
   "metadata": {},
   "outputs": [
    {
     "name": "stdout",
     "output_type": "stream",
     "text": [
      "skin colour is brown\n"
     ]
    }
   ],
   "source": [
    "devika.skin(\"brown\") #here the class is human and object is devika"
   ]
  },
  {
   "cell_type": "code",
   "execution_count": 6,
   "id": "e1fce367-caac-4aa1-b1a5-afc84c68cda5",
   "metadata": {},
   "outputs": [],
   "source": [
    "#b) inheritance - one class will inherit the properties of onther class\n",
    "#there are 3 types - single inheritance, multi level inheritance, multiple inheritance\n",
    "#c) Polymorphism - this allows methods to do different things based on the object it is acting upon,\n",
    "#D)encapsulation - this is used to protect the data from outsiders, __devika will help to privaste the data,_devika will protect the data and it can be accesed only by the person knows then code by object._class__function\n",
    "#E)abstract - this is used to hide the complex data and show inly the required data"
   ]
  },
  {
   "cell_type": "code",
   "execution_count": null,
   "id": "79e1c944-193f-4b53-a06e-44d07112c907",
   "metadata": {},
   "outputs": [],
   "source": []
  },
  {
   "cell_type": "code",
   "execution_count": 10,
   "id": "5d43f410-63d0-4650-be8a-d65fbbb0fc8c",
   "metadata": {},
   "outputs": [],
   "source": [
    "#question-2\n",
    "class car:\n",
    "    def information(self,model,year):\n",
    "        print(\"this car is\",model,\",made in year\",year)"
   ]
  },
  {
   "cell_type": "code",
   "execution_count": 11,
   "id": "47a9f474-7ce6-4ffd-a61d-553a21055f13",
   "metadata": {},
   "outputs": [],
   "source": [
    "a = car()"
   ]
  },
  {
   "cell_type": "code",
   "execution_count": 12,
   "id": "32e13e5c-3804-4dd9-a28e-64eca24c6dbc",
   "metadata": {},
   "outputs": [
    {
     "name": "stdout",
     "output_type": "stream",
     "text": [
      "this car is BMW ,made in year 2017\n"
     ]
    }
   ],
   "source": [
    "a.information(\"BMW\",2017)"
   ]
  },
  {
   "cell_type": "code",
   "execution_count": null,
   "id": "7e8c1e94-48b6-48bb-ab4c-6e08a21f1118",
   "metadata": {},
   "outputs": [],
   "source": []
  },
  {
   "cell_type": "code",
   "execution_count": 13,
   "id": "a744f369-9c95-4108-a10b-bf83975aac47",
   "metadata": {},
   "outputs": [],
   "source": [
    "#question-3\n",
    "#An instance method is a method that is bound to an instance of a class. It takes self as its first parameter, which refers to the instance itself.\n",
    "class human:\n",
    "    def skin(self,colour):\n",
    "        print(\"skin colour is\",colour)"
   ]
  },
  {
   "cell_type": "code",
   "execution_count": 14,
   "id": "5300022e-1f91-481d-a82e-8ea2e1673ed3",
   "metadata": {},
   "outputs": [],
   "source": [
    "devika = human()"
   ]
  },
  {
   "cell_type": "code",
   "execution_count": 15,
   "id": "b62a21a2-5e91-43d6-a477-a17d2b79baae",
   "metadata": {},
   "outputs": [
    {
     "name": "stdout",
     "output_type": "stream",
     "text": [
      "skin colour is white\n"
     ]
    }
   ],
   "source": [
    "devika.skin(\"white\")"
   ]
  },
  {
   "cell_type": "code",
   "execution_count": 16,
   "id": "0fab6b0e-0120-43f5-8b9b-faf8cc8baf6b",
   "metadata": {},
   "outputs": [],
   "source": [
    "#A class method is a method that is bound to the class and not the instance. It takes cls as its first parameter, which refers to the class itself\n",
    "class human:\n",
    "    @classmethod\n",
    "    def skin(cls,colour):\n",
    "        print(\"skin colour is\",colour)"
   ]
  },
  {
   "cell_type": "code",
   "execution_count": 17,
   "id": "3b47b566-1953-4821-bc39-8797f24562b3",
   "metadata": {},
   "outputs": [
    {
     "name": "stdout",
     "output_type": "stream",
     "text": [
      "skin colour is white\n"
     ]
    }
   ],
   "source": [
    "human.skin(\"white\")"
   ]
  },
  {
   "cell_type": "code",
   "execution_count": null,
   "id": "d73bef96-22d8-4086-a0ec-004de9457246",
   "metadata": {},
   "outputs": [],
   "source": []
  },
  {
   "cell_type": "code",
   "execution_count": 18,
   "id": "df3712d2-a3e2-47f3-a67a-3489bf28846e",
   "metadata": {},
   "outputs": [],
   "source": [
    "#4) method overloading\n",
    "#it overloading is not frequently used in python, but it can be acheived by following mwthod\n",
    "class student:\n",
    "    def info(self,name=\"\",grade=\"\",section=\"\"):\n",
    "        print(\"welcome\",name,section,grade)"
   ]
  },
  {
   "cell_type": "code",
   "execution_count": 19,
   "id": "099a0b49-dd9c-48a0-9b71-375dc8102ea6",
   "metadata": {},
   "outputs": [],
   "source": [
    "a=student()"
   ]
  },
  {
   "cell_type": "code",
   "execution_count": 21,
   "id": "7a4c2381-1c08-43fc-9806-457c8778a762",
   "metadata": {},
   "outputs": [
    {
     "name": "stdout",
     "output_type": "stream",
     "text": [
      "welcome devika  \n"
     ]
    }
   ],
   "source": [
    "a.info(name=\"devika\")#this is how overloading is done, info is used to attribute like name,section,grade overall"
   ]
  },
  {
   "cell_type": "code",
   "execution_count": null,
   "id": "ad274a1d-b378-4ccb-997e-99fe0cc1fce8",
   "metadata": {},
   "outputs": [],
   "source": []
  },
  {
   "cell_type": "code",
   "execution_count": 33,
   "id": "ab9ccbad-fde4-4f5a-818c-c9c43e37c6b7",
   "metadata": {},
   "outputs": [],
   "source": [
    "#5)three types of access modifier\n",
    "#there are 3 types of access modifier\n",
    "#public,private,protector\n",
    "#a)public attribute\n",
    "class college:\n",
    "    def __init__(self,student,section):\n",
    "        self.secton=section#public attribute\n",
    "        print(\"the student\",student,\"studies in section\",section)\n",
    "        "
   ]
  },
  {
   "cell_type": "code",
   "execution_count": 24,
   "id": "43874fb5-b4a4-4b42-aa2f-939db8742b61",
   "metadata": {},
   "outputs": [
    {
     "name": "stdout",
     "output_type": "stream",
     "text": [
      "the student devika studies in section a\n"
     ]
    }
   ],
   "source": [
    "a=college(\"devika\",\"a\")"
   ]
  },
  {
   "cell_type": "code",
   "execution_count": 42,
   "id": "622a10c1-2d7e-4c29-922a-60ce1a2ae2c0",
   "metadata": {},
   "outputs": [],
   "source": [
    "#b)private attribute\n",
    "class college:\n",
    "    def __init__(self,student,section):\n",
    "        self.__section=section#private attribute"
   ]
  },
  {
   "cell_type": "code",
   "execution_count": 47,
   "id": "594ef2e3-4bf0-467d-a364-474528e4a76b",
   "metadata": {},
   "outputs": [],
   "source": [
    "a=college(\"devika\",\"a\")"
   ]
  },
  {
   "cell_type": "code",
   "execution_count": 48,
   "id": "0fed38e1-0e0e-4d92-90ea-bf010832ef5a",
   "metadata": {},
   "outputs": [
    {
     "data": {
      "text/plain": [
       "'a'"
      ]
     },
     "execution_count": 48,
     "metadata": {},
     "output_type": "execute_result"
    }
   ],
   "source": [
    "a._college__section"
   ]
  },
  {
   "cell_type": "code",
   "execution_count": 50,
   "id": "22f8a5af-ae47-47f0-89ba-6dac84ac9377",
   "metadata": {},
   "outputs": [],
   "source": [
    "#c)protected attribute\n",
    "class college:\n",
    "    def __init__(self,student,section):\n",
    "        self._section=section\n",
    "    def get_info(self):\n",
    "        print (self._section)"
   ]
  },
  {
   "cell_type": "code",
   "execution_count": 51,
   "id": "3f9234f0-9a0f-4d45-92e8-0ebe69a19522",
   "metadata": {},
   "outputs": [],
   "source": [
    "a=college(\"devika\",\"a\")"
   ]
  },
  {
   "cell_type": "code",
   "execution_count": 52,
   "id": "3e35d607-5eaa-43cb-8650-d7d6a9542b4b",
   "metadata": {},
   "outputs": [
    {
     "name": "stdout",
     "output_type": "stream",
     "text": [
      "a\n"
     ]
    }
   ],
   "source": [
    "a.get_info()"
   ]
  },
  {
   "cell_type": "code",
   "execution_count": null,
   "id": "44aa5cd7-eeb1-4646-8372-fa959d8aaeb8",
   "metadata": {},
   "outputs": [],
   "source": []
  },
  {
   "cell_type": "code",
   "execution_count": 53,
   "id": "66952c4f-9010-440b-af3b-063cecc4e623",
   "metadata": {},
   "outputs": [],
   "source": [
    "#question-6\n",
    "#there 5 types of inheritance are, single,multiple,multilevel,hierarchial,hybrid inheritance\n",
    "#single inheritance>>ove dderived class had one base class\n",
    "#multilevel>> a derived class has a base class and it will be derived from another baqse class\n",
    "#hieranchial inheritance>> one base class sevral derived class\n",
    "#hybrid inheritance>>it has mixtured of different inheritance\n",
    "#multiple inheritance>>one derived class has multiple base clasf"
   ]
  },
  {
   "cell_type": "code",
   "execution_count": 54,
   "id": "5eeb0376-9e86-486f-87d2-e2007cfc30a4",
   "metadata": {},
   "outputs": [],
   "source": [
    "#multiple inheritance\n",
    "class himanshi:\n",
    "    def info(self):\n",
    "        print(\"has pen\")\n",
    "class ishika:\n",
    "    def info1(self):\n",
    "        print(\"has pencil\")\n",
    "class devika(himanshi,ishika):\n",
    "    def info2(self):\n",
    "        print(\"has eraser\")"
   ]
  },
  {
   "cell_type": "code",
   "execution_count": 57,
   "id": "c23b110d-646e-42fc-9a91-77e4c18b3a4f",
   "metadata": {},
   "outputs": [
    {
     "name": "stdout",
     "output_type": "stream",
     "text": [
      "has eraser\n"
     ]
    }
   ],
   "source": [
    "devika.info2(a)"
   ]
  },
  {
   "cell_type": "code",
   "execution_count": 59,
   "id": "97cf8fbf-2e5f-4cbb-8f18-7be3e2324bfb",
   "metadata": {},
   "outputs": [
    {
     "name": "stdout",
     "output_type": "stream",
     "text": [
      "has pen\n"
     ]
    }
   ],
   "source": [
    "devika.info(a)"
   ]
  },
  {
   "cell_type": "code",
   "execution_count": 61,
   "id": "a04448a3-409a-455b-858a-291bed207e15",
   "metadata": {},
   "outputs": [
    {
     "name": "stdout",
     "output_type": "stream",
     "text": [
      "has pencil\n"
     ]
    }
   ],
   "source": [
    "devika.info1(a) #here devika has access to both ishika and himanshi but none of rest has"
   ]
  },
  {
   "cell_type": "code",
   "execution_count": null,
   "id": "7dfd07a7-bb82-4af3-b11a-7df9268d4fa4",
   "metadata": {},
   "outputs": [],
   "source": []
  },
  {
   "cell_type": "code",
   "execution_count": 63,
   "id": "a1cfe088-e29d-42a6-a706-a62f2c7634f3",
   "metadata": {},
   "outputs": [
    {
     "name": "stdout",
     "output_type": "stream",
     "text": [
      "(<class '__main__.devika'>, <class '__main__.ishika'>, <class '__main__.himanshi'>, <class 'object'>)\n"
     ]
    }
   ],
   "source": [
    "#question 7\n",
    "#MRO is order in which Python looks for a method in a hierarchy of classes.it can be knoen by using __mro__\n",
    "#example\n",
    "class himanshi:\n",
    "    def info(self):\n",
    "        print(\"has pen\")\n",
    "class ishika(himanshi):\n",
    "    def info1(self):\n",
    "        print(\"has pencil\")\n",
    "class devika(ishika):\n",
    "    pass\n",
    "\n",
    "print(devika.__mro__)"
   ]
  },
  {
   "cell_type": "code",
   "execution_count": null,
   "id": "05460801-6d0e-4a5e-a25d-e67656ab3a4c",
   "metadata": {},
   "outputs": [],
   "source": []
  },
  {
   "cell_type": "code",
   "execution_count": 73,
   "id": "a5146d8e-2303-426b-a8ff-456bd15bb836",
   "metadata": {},
   "outputs": [],
   "source": [
    "#question 9\n",
    "#polymorphism\n",
    "class square:\n",
    "    def area(self,a):\n",
    "        return a**2\n",
    "class rectangle:\n",
    "    def area(self,b,c):\n",
    "        return b*c\n"
   ]
  },
  {
   "cell_type": "raw",
   "id": "26c3d3cd-741c-4f8e-bf4c-f7f578820dad",
   "metadata": {},
   "source": [
    "shape1=square()"
   ]
  },
  {
   "cell_type": "code",
   "execution_count": 71,
   "id": "ad06bde3-cd22-49e0-ae7c-6dde77f90e19",
   "metadata": {},
   "outputs": [
    {
     "ename": "NameError",
     "evalue": "name 'shape1' is not defined",
     "output_type": "error",
     "traceback": [
      "\u001b[1;31m---------------------------------------------------------------------------\u001b[0m",
      "\u001b[1;31mNameError\u001b[0m                                 Traceback (most recent call last)",
      "Cell \u001b[1;32mIn[71], line 1\u001b[0m\n\u001b[1;32m----> 1\u001b[0m \u001b[43mshape1\u001b[49m\u001b[38;5;241m.\u001b[39marea()\n",
      "\u001b[1;31mNameError\u001b[0m: name 'shape1' is not defined"
     ]
    }
   ],
   "source": [
    "shape1."
   ]
  },
  {
   "cell_type": "code",
   "execution_count": null,
   "id": "f4db068c-67e2-40eb-8d24-e06614ff0675",
   "metadata": {},
   "outputs": [],
   "source": []
  },
  {
   "cell_type": "code",
   "execution_count": 88,
   "id": "15b065ad-eaa1-4d26-82b0-1147da90fc44",
   "metadata": {},
   "outputs": [],
   "source": [
    "#question 10\n",
    "class bank:\n",
    "    def __init__ (self,balance,acc_no):\n",
    "        self.__balance=balance\n",
    "        self.__acc_no=acc_no\n",
    "    def deposite(self,amount):\n",
    "        self.__balance = self.__balance+amount\n",
    "    def withdraw (self,amount):\n",
    "        if amount <= self.__balance:\n",
    "            self.__balance = self.__balance-amount\n",
    "        else:\n",
    "            false\n",
    "    def get(self):\n",
    "        return self.__balance\n",
    "    "
   ]
  },
  {
   "cell_type": "code",
   "execution_count": 90,
   "id": "db0afe79-24c3-4be9-b7d5-0ffdf991ffba",
   "metadata": {},
   "outputs": [],
   "source": [
    "a=bank(1000,123)"
   ]
  },
  {
   "cell_type": "code",
   "execution_count": 91,
   "id": "bae93b43-7245-403d-86c7-b57f0d1a87a8",
   "metadata": {},
   "outputs": [],
   "source": [
    "a.deposite(1000)"
   ]
  },
  {
   "cell_type": "code",
   "execution_count": 92,
   "id": "1b1efc12-e154-47d6-8205-6e644eaaffda",
   "metadata": {},
   "outputs": [
    {
     "data": {
      "text/plain": [
       "2000"
      ]
     },
     "execution_count": 92,
     "metadata": {},
     "output_type": "execute_result"
    }
   ],
   "source": [
    "a.get()"
   ]
  },
  {
   "cell_type": "code",
   "execution_count": 93,
   "id": "3b65ef47-62db-41d1-8009-770d76ab43e1",
   "metadata": {},
   "outputs": [],
   "source": [
    "a.withdraw(100)"
   ]
  },
  {
   "cell_type": "code",
   "execution_count": 94,
   "id": "23998465-8450-4d36-830b-dd7262f733d5",
   "metadata": {},
   "outputs": [
    {
     "data": {
      "text/plain": [
       "1900"
      ]
     },
     "execution_count": 94,
     "metadata": {},
     "output_type": "execute_result"
    }
   ],
   "source": [
    "a.get()"
   ]
  },
  {
   "cell_type": "code",
   "execution_count": null,
   "id": "d95f06a8-64a6-4a97-bb86-d4ebdac9e3c3",
   "metadata": {},
   "outputs": [],
   "source": []
  },
  {
   "cell_type": "code",
   "execution_count": 95,
   "id": "1abe9f28-8526-4573-a425-52887f806fda",
   "metadata": {},
   "outputs": [
    {
     "ename": "SyntaxError",
     "evalue": "invalid syntax (1602495981.py, line 2)",
     "output_type": "error",
     "traceback": [
      "\u001b[1;36m  Cell \u001b[1;32mIn[95], line 2\u001b[1;36m\u001b[0m\n\u001b[1;33m    \"pw\"__add__\"skills\"\u001b[0m\n\u001b[1;37m        ^\u001b[0m\n\u001b[1;31mSyntaxError\u001b[0m\u001b[1;31m:\u001b[0m invalid syntax\n"
     ]
    }
   ],
   "source": [
    "#question 11\n",
    "\"pw\"__add__\"skills\""
   ]
  },
  {
   "cell_type": "code",
   "execution_count": null,
   "id": "a1b24a01-819a-4116-b53c-d37c65c0d7d1",
   "metadata": {},
   "outputs": [],
   "source": []
  },
  {
   "cell_type": "code",
   "execution_count": 98,
   "id": "0fb9e296-3f18-447f-b701-569798a37885",
   "metadata": {},
   "outputs": [
    {
     "name": "stdout",
     "output_type": "stream",
     "text": [
      "apple is a fruit\n"
     ]
    },
    {
     "data": {
      "text/plain": [
       "(__main__.hybrid, __main__.apple, __main__.mango, __main__.fruit, object)"
      ]
     },
     "execution_count": 98,
     "metadata": {},
     "output_type": "execute_result"
    }
   ],
   "source": [
    "#question 13\n",
    "class fruit():\n",
    "    def info(self):\n",
    "        print(\"fruit is sweet\")\n",
    "class apple(fruit):\n",
    "    def info(self):\n",
    "        print(\"apple is a fruit\")\n",
    "class mango(fruit):\n",
    "    def info(self):\n",
    "        print(\"mango is a fruit\")\n",
    "class hybrid(apple,mango):\n",
    "    pass\n",
    "\n",
    "a=hybrid()\n",
    "a.info()\n",
    "hybrid.__mro__"
   ]
  },
  {
   "cell_type": "code",
   "execution_count": null,
   "id": "2979b444-9d87-4441-ac21-a4d312667f1a",
   "metadata": {},
   "outputs": [],
   "source": []
  },
  {
   "cell_type": "code",
   "execution_count": 100,
   "id": "22ef2ecc-a081-4c8f-b757-432e4d29c714",
   "metadata": {},
   "outputs": [],
   "source": [
    "#question \n",
    "class leapyear:\n",
    "    @staticmethod\n",
    "    def leap(self,year):\n",
    "        if (year%4==0):\n",
    "            print(\"yes\")\n",
    "        else:\n",
    "            print(\"no\")\n",
    "        \n"
   ]
  },
  {
   "cell_type": "code",
   "execution_count": 101,
   "id": "2747ad85-dedb-4fe2-9d20-1433ff2de9a5",
   "metadata": {},
   "outputs": [],
   "source": [
    "a=leapyear()"
   ]
  },
  {
   "cell_type": "code",
   "execution_count": 103,
   "id": "0d44014b-f84d-4221-b3aa-28570f90399b",
   "metadata": {},
   "outputs": [
    {
     "name": "stdout",
     "output_type": "stream",
     "text": [
      "yes\n"
     ]
    }
   ],
   "source": [
    "a.leap(a,2024)"
   ]
  },
  {
   "cell_type": "code",
   "execution_count": null,
   "id": "13b31489-7e4c-4302-98e9-f0aa84a199af",
   "metadata": {},
   "outputs": [],
   "source": []
  }
 ],
 "metadata": {
  "kernelspec": {
   "display_name": "Python 3 (ipykernel)",
   "language": "python",
   "name": "python3"
  },
  "language_info": {
   "codemirror_mode": {
    "name": "ipython",
    "version": 3
   },
   "file_extension": ".py",
   "mimetype": "text/x-python",
   "name": "python",
   "nbconvert_exporter": "python",
   "pygments_lexer": "ipython3",
   "version": "3.12.5"
  }
 },
 "nbformat": 4,
 "nbformat_minor": 5
}
